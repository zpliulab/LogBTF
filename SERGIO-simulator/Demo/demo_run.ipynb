{
 "cells": [
  {
   "cell_type": "code",
   "execution_count": 2,
   "metadata": {},
   "outputs": [],
   "source": [
    "import numpy as np\n",
    "import pandas as pd\n",
    "from sergio import sergio"
   ]
  },
  {
   "cell_type": "markdown",
   "metadata": {},
   "source": [
    "# Simulate Clean Data _ Steady-State Simulation"
   ]
  },
  {
   "cell_type": "code",
   "execution_count": 3,
   "metadata": {},
   "outputs": [
    {
     "name": "stdout",
     "output_type": "stream",
     "text": [
      "Start simulating new level\n",
      "There are 4 genes to simulate in this layer\n",
      "Done with current level\n",
      "Start simulating new level\n",
      "There are 6 genes to simulate in this layer\n",
      "Done with current level\n",
      "Start simulating new level\n",
      "There are 90 genes to simulate in this layer\n",
      "Done with current level\n"
     ]
    }
   ],
   "source": [
    "sim = sergio(number_genes=100, number_bins = 9, number_sc = 300, noise_params = 1, decays=0.8, sampling_state=15, noise_type='dpd')\n",
    "sim.build_graph(input_file_taregts ='steady-state_input_GRN.txt', input_file_regs='steady-state_input_MRs.txt', shared_coop_state=2)\n",
    "sim.simulate()\n",
    "expr = sim.getExpressions()\n",
    "expr_clean_ss = np.concatenate(expr, axis = 1)"
   ]
  },
  {
   "cell_type": "markdown",
   "metadata": {},
   "source": [
    "# Simulate Clean Data _ differentiation Simulation"
   ]
  },
  {
   "cell_type": "code",
   "execution_count": null,
   "metadata": {
    "collapsed": true
   },
   "outputs": [],
   "source": [
    "df = pd.read_csv('differentiation_graph.tab', sep='\\t', header=None, index_col=None)\n",
    "bMat = df.values\n",
    "\n",
    "sim = sergio(number_genes=100, number_bins = 3, number_sc = 100, noise_params = 0.3, decays=0.8, sampling_state = 1, noise_params_splice = 0.1, noise_type='dpd', dynamics=True, bifurcation_matrix= bMat, splice_ratio=1.5)\n",
    "sim.build_graph(input_file_taregts ='differentiation_input_GRN.txt', input_file_regs='differentiation_input_MRs.txt', shared_coop_state=2)\n",
    "sim.simulate_dynamics()\n",
    "exprU, exprS = sim.getExpressions_dynamics()\n",
    "exprU_clean = np.concatenate(exprU, axis = 1)\n",
    "exprS_clean = np.concatenate(exprS, axis = 1)\n",
    "\n",
    "expr_clean_dif = exprU_clean + exprS_clean"
   ]
  }
 ],
 "metadata": {
  "kernelspec": {
   "display_name": "Python 3 (ipykernel)",
   "language": "python",
   "name": "python3"
  },
  "language_info": {
   "codemirror_mode": {
    "name": "ipython",
    "version": 3
   },
   "file_extension": ".py",
   "mimetype": "text/x-python",
   "name": "python",
   "nbconvert_exporter": "python",
   "pygments_lexer": "ipython3",
   "version": "3.9.12"
  }
 },
 "nbformat": 4,
 "nbformat_minor": 2
}
